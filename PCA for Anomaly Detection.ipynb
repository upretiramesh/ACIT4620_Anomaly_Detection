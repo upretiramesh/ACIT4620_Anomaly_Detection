{
 "cells": [
  {
   "cell_type": "code",
   "execution_count": 2,
   "metadata": {},
   "outputs": [],
   "source": [
    "from PIL import Image\n",
    "import numpy as np\n",
    "import pandas as pd\n",
    "from glob import glob\n",
    "import os"
   ]
  },
  {
   "cell_type": "code",
   "execution_count": 3,
   "metadata": {},
   "outputs": [],
   "source": [
    "def read_and_save_to_df(path):\n",
    "    im = Image.open(path).convert('L')\n",
    "    im = im.resize((50,50))\n",
    "    im = np.array(im)/255\n",
    "    data = im.flatten()\n",
    "    return data"
   ]
  },
  {
   "cell_type": "code",
   "execution_count": 8,
   "metadata": {},
   "outputs": [],
   "source": [
    "df_train = []\n",
    "for img in glob('./bottle/train/good/*'):\n",
    "    df_train.append(read_and_save_to_df(img))"
   ]
  },
  {
   "cell_type": "code",
   "execution_count": 6,
   "metadata": {},
   "outputs": [],
   "source": [
    "df_test = []\n",
    "real = []\n",
    "for img in glob('./bottle/test/**/*'):\n",
    "    df_test.append(read_and_save_to_df(img))\n",
    "    real.append( 0 if 'good' in img else 1)"
   ]
  },
  {
   "cell_type": "code",
   "execution_count": 7,
   "metadata": {},
   "outputs": [],
   "source": [
    "from sklearn.decomposition import PCA\n",
    "from sklearn.metrics import confusion_matrix, precision_score, recall_score, accuracy_score, roc_curve, f1_score, classification_report"
   ]
  },
  {
   "cell_type": "code",
   "execution_count": 10,
   "metadata": {},
   "outputs": [
    {
     "data": {
      "text/plain": [
       "0.3557192103646907"
      ]
     },
     "execution_count": 10,
     "metadata": {},
     "output_type": "execute_result"
    }
   ],
   "source": [
    "pca = PCA(n_components=100)\n",
    "df_train_reduced = pca.fit_transform(df_train)\n",
    "df_train_inverse = pca.inverse_transform(df_train_reduced)\n",
    "train_loss = np.sum((df_train - df_train_inverse) ** 2, axis=1)\n",
    "threshold = np.max(train_loss)*5\n",
    "threshold"
   ]
  },
  {
   "cell_type": "markdown",
   "metadata": {},
   "source": [
    "# Test set"
   ]
  },
  {
   "cell_type": "code",
   "execution_count": 11,
   "metadata": {},
   "outputs": [],
   "source": [
    "df_test_reduced = pca.transform(df_test)\n",
    "df_test_inverse =pca.inverse_transform(df_test_reduced)"
   ]
  },
  {
   "cell_type": "code",
   "execution_count": 12,
   "metadata": {},
   "outputs": [],
   "source": [
    "test_loss = np.sum((df_test - df_test_inverse) ** 2, axis=1)\n",
    "predict = [1 if val>threshold else 0 for val in test_loss]"
   ]
  },
  {
   "cell_type": "code",
   "execution_count": 13,
   "metadata": {},
   "outputs": [],
   "source": [
    "def print_metrics(real, predict):\n",
    "    print('Accuracy: ', accuracy_score(real, predict))\n",
    "    print('\\nPrecision: ', precision_score(real, predict))\n",
    "    print('\\nrecall: ', recall_score(real, predict))\n",
    "    print('\\nf1_score: ', f1_score(real, predict))\n",
    "    print('\\nconfusion_matrix:\\n ', pd.DataFrame(confusion_matrix(real, predict), index=[0, 1], columns=[0, 1]))\n",
    "    print('\\nclassification_report:\\n ', classification_report(real, predict))"
   ]
  },
  {
   "cell_type": "code",
   "execution_count": 14,
   "metadata": {},
   "outputs": [
    {
     "name": "stdout",
     "output_type": "stream",
     "text": [
      "Accuracy:  0.963855421686747\n",
      "\n",
      "Precision:  0.96875\n",
      "\n",
      "recall:  0.9841269841269841\n",
      "\n",
      "f1_score:  0.9763779527559054\n",
      "\n",
      "confusion_matrix:\n",
      "      0   1\n",
      "0  18   2\n",
      "1   1  62\n",
      "\n",
      "classification_report:\n",
      "                precision    recall  f1-score   support\n",
      "\n",
      "           0       0.95      0.90      0.92        20\n",
      "           1       0.97      0.98      0.98        63\n",
      "\n",
      "    accuracy                           0.96        83\n",
      "   macro avg       0.96      0.94      0.95        83\n",
      "weighted avg       0.96      0.96      0.96        83\n",
      "\n"
     ]
    }
   ],
   "source": [
    "print_metrics(real, predict)"
   ]
  },
  {
   "cell_type": "code",
   "execution_count": null,
   "metadata": {},
   "outputs": [],
   "source": []
  },
  {
   "cell_type": "markdown",
   "metadata": {},
   "source": [
    "# most read book chapter for anomalies detection using pca\n",
    "\n",
    "https://www.oreilly.com/library/view/hands-on-unsupervised-learning/9781492035633/ch04.html\n",
    "\n",
    "\n",
    "PCA and AutoEncoder\n",
    "\n",
    "https://towardsdatascience.com/machine-learning-for-anomaly-detection-and-condition-monitoring-d4614e7de770"
   ]
  }
 ],
 "metadata": {
  "kernelspec": {
   "display_name": "Python 3",
   "language": "python",
   "name": "python3"
  },
  "language_info": {
   "codemirror_mode": {
    "name": "ipython",
    "version": 3
   },
   "file_extension": ".py",
   "mimetype": "text/x-python",
   "name": "python",
   "nbconvert_exporter": "python",
   "pygments_lexer": "ipython3",
   "version": "3.8.0"
  }
 },
 "nbformat": 4,
 "nbformat_minor": 2
}
