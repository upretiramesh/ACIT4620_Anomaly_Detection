{
 "cells": [
  {
   "cell_type": "code",
   "execution_count": 8,
   "metadata": {},
   "outputs": [],
   "source": [
    "from tensorflow.keras.applications.vgg16 import VGG16\n",
    "\n",
    "from tensorflow.keras.preprocessing.image import load_img\n",
    "from tensorflow.keras.preprocessing.image import img_to_array\n",
    "from tensorflow.keras.applications.vgg16 import preprocess_input"
   ]
  },
  {
   "cell_type": "code",
   "execution_count": 9,
   "metadata": {},
   "outputs": [],
   "source": [
    "from image_slicer import slice\n",
    "from glob import glob\n",
    "import os\n",
    "import numpy as np\n",
    "import pandas as pd"
   ]
  },
  {
   "cell_type": "code",
   "execution_count": 10,
   "metadata": {},
   "outputs": [],
   "source": [
    "def prepare_image(path):\n",
    "    # load an image from file\n",
    "    image = load_img(path) # 224, 224\n",
    "\n",
    "    # convert the image pixels to a numpy array\n",
    "    image = img_to_array(image)\n",
    "\n",
    "    # reshape data for the model\n",
    "    image = image.reshape((1, image.shape[0], image.shape[1], image.shape[2]))\n",
    "\n",
    "    # prepare the image for the VGG model\n",
    "    image = preprocess_input(image)\n",
    "    \n",
    "    return image"
   ]
  },
  {
   "cell_type": "code",
   "execution_count": null,
   "metadata": {},
   "outputs": [],
   "source": []
  },
  {
   "cell_type": "code",
   "execution_count": null,
   "metadata": {},
   "outputs": [],
   "source": []
  },
  {
   "cell_type": "code",
   "execution_count": 11,
   "metadata": {},
   "outputs": [],
   "source": [
    "# load model\n",
    "model = VGG16(input_shape=(100,100,3), include_top=False)"
   ]
  },
  {
   "cell_type": "code",
   "execution_count": 12,
   "metadata": {},
   "outputs": [],
   "source": [
    "from tensorflow.keras.models import Model\n",
    "from tensorflow.keras.layers import GlobalAveragePooling2D"
   ]
  },
  {
   "cell_type": "code",
   "execution_count": 13,
   "metadata": {
    "scrolled": true
   },
   "outputs": [],
   "source": [
    "# out = GlobalAveragePooling2D()(model.output)\n",
    "# model = Model(inputs=model.input, outputs=out)\n",
    "# model.summary()"
   ]
  },
  {
   "cell_type": "code",
   "execution_count": 27,
   "metadata": {},
   "outputs": [],
   "source": [
    "def feature_convergence(folder_path, model):\n",
    "    data = []\n",
    "    for i in range(len(os.listdir(folder_path))):\n",
    "        image = folder_path+f'{i:03d}.png'\n",
    "        slice(image, 81)\n",
    "        img = []\n",
    "        for j in range(1, 10):\n",
    "            for k in range(1, 10):\n",
    "                image= prepare_image(folder_path+f'{i:03d}_{j:02d}_{k:02d}.png')\n",
    "                output = model.predict(image)\n",
    "                output = output.flatten()\n",
    "                img.append(np.mean(output)) # +np.std(output)\n",
    "        for file in glob(folder_path+f'{i:03d}_*.png'):\n",
    "            os.remove(file)\n",
    "        data.append(img)\n",
    "    return data\n",
    "                "
   ]
  },
  {
   "cell_type": "code",
   "execution_count": 49,
   "metadata": {},
   "outputs": [],
   "source": [
    "train_path = 'bottle/train/good/'\n",
    "test_bs = 'bottle/test/broken_small/'\n",
    "test_bl = 'bottle/test/broken_large/'\n",
    "test_g = 'bottle/test/good/'\n",
    "test_con = 'bottle/test/contamination/'"
   ]
  },
  {
   "cell_type": "markdown",
   "metadata": {},
   "source": [
    "# test small broken"
   ]
  },
  {
   "cell_type": "code",
   "execution_count": 66,
   "metadata": {},
   "outputs": [],
   "source": [
    "test_bs_data = feature_convergence(test_bs, model)\n",
    "test_bs_data = pd.DataFrame(test_bs_data)"
   ]
  },
  {
   "cell_type": "code",
   "execution_count": 67,
   "metadata": {},
   "outputs": [],
   "source": [
    "test_bs_data = pd.DataFrame(test_bs_data)"
   ]
  },
  {
   "cell_type": "code",
   "execution_count": null,
   "metadata": {},
   "outputs": [],
   "source": []
  },
  {
   "cell_type": "markdown",
   "metadata": {},
   "source": [
    "# broken large"
   ]
  },
  {
   "cell_type": "code",
   "execution_count": 44,
   "metadata": {},
   "outputs": [],
   "source": [
    "test_bl_data = feature_convergence(test_bl, model)"
   ]
  },
  {
   "cell_type": "code",
   "execution_count": 46,
   "metadata": {},
   "outputs": [],
   "source": [
    "test_bl_data = pd.DataFrame(test_bl_data)"
   ]
  },
  {
   "cell_type": "code",
   "execution_count": 51,
   "metadata": {},
   "outputs": [],
   "source": [
    "# bl = []\n",
    "# for i in range(len(test_bl_data)):\n",
    "#     num = np.sum((train_df.mean()-test_bl_data.iloc[i])**2)\n",
    "#     bl.append(num)\n",
    "# bl"
   ]
  },
  {
   "cell_type": "markdown",
   "metadata": {},
   "source": [
    "# test contamination"
   ]
  },
  {
   "cell_type": "code",
   "execution_count": 50,
   "metadata": {},
   "outputs": [],
   "source": [
    "test_con_data = feature_convergence(test_con, model)\n",
    "test_con_data = pd.DataFrame(test_con_data)"
   ]
  },
  {
   "cell_type": "code",
   "execution_count": 52,
   "metadata": {},
   "outputs": [
    {
     "data": {
      "text/plain": [
       "[8.70897926890651,\n",
       " 6.639637155684203,\n",
       " 5.4362416529020905,\n",
       " 3.586175123753173,\n",
       " 5.541745800375883,\n",
       " 7.842882237175408,\n",
       " 4.606368530324701,\n",
       " 9.426630267411271,\n",
       " 7.275061881838697,\n",
       " 6.343407411956487,\n",
       " 14.799831189983971,\n",
       " 2.7977860832412023,\n",
       " 3.3184709375909662,\n",
       " 3.4874228911002203,\n",
       " 2.959565717190353,\n",
       " 6.715153234220022,\n",
       " 3.5307274573456544,\n",
       " 5.730579191298196,\n",
       " 4.751834266700814,\n",
       " 2.4902590325588863,\n",
       " 2.755529340002596]"
      ]
     },
     "execution_count": 52,
     "metadata": {},
     "output_type": "execute_result"
    }
   ],
   "source": [
    "con = []\n",
    "for i in range(len(test_con_data)):\n",
    "    num = np.sum((train_df.mean()-test_con_data.iloc[i])**2)\n",
    "    con.append(num)\n",
    "con"
   ]
  },
  {
   "cell_type": "markdown",
   "metadata": {},
   "source": [
    "# test good image"
   ]
  },
  {
   "cell_type": "code",
   "execution_count": 53,
   "metadata": {},
   "outputs": [],
   "source": [
    "test_g_data = feature_convergence(test_g, model)\n",
    "test_g_data = pd.DataFrame(test_g_data)"
   ]
  },
  {
   "cell_type": "code",
   "execution_count": 54,
   "metadata": {},
   "outputs": [
    {
     "data": {
      "text/plain": [
       "[2.2624110381999305,\n",
       " 2.026171384323102,\n",
       " 4.155579696366053,\n",
       " 2.999428417897528,\n",
       " 1.588795302886484,\n",
       " 1.8880411445436243,\n",
       " 3.7639198499810593,\n",
       " 3.4999415831221437,\n",
       " 2.6471860856771396,\n",
       " 3.7659832098505754,\n",
       " 4.077082129775577,\n",
       " 2.8108204880201715,\n",
       " 3.5897448200753685,\n",
       " 4.267787007526065,\n",
       " 2.8403358675380117,\n",
       " 3.8097490169842922,\n",
       " 2.380374095897589,\n",
       " 1.2740777617398387,\n",
       " 3.876056124401651,\n",
       " 4.1946134229112015]"
      ]
     },
     "execution_count": 54,
     "metadata": {},
     "output_type": "execute_result"
    }
   ],
   "source": [
    "good = []\n",
    "for i in range(len(test_g_data)):\n",
    "    num = np.sum((train_df.mean()-test_g_data.iloc[i])**2)\n",
    "    good.append(num)\n",
    "good"
   ]
  },
  {
   "cell_type": "markdown",
   "metadata": {},
   "source": [
    "# train good image"
   ]
  },
  {
   "cell_type": "code",
   "execution_count": 56,
   "metadata": {},
   "outputs": [],
   "source": [
    "train_df = feature_convergence(train_path, model)\n",
    "train_df = pd.DataFrame(train_df)"
   ]
  },
  {
   "cell_type": "code",
   "execution_count": 59,
   "metadata": {},
   "outputs": [
    {
     "data": {
      "text/plain": [
       "209"
      ]
     },
     "execution_count": 59,
     "metadata": {},
     "output_type": "execute_result"
    }
   ],
   "source": [
    "len(train_df)"
   ]
  },
  {
   "cell_type": "markdown",
   "metadata": {},
   "source": [
    "# test the result"
   ]
  },
  {
   "cell_type": "code",
   "execution_count": 60,
   "metadata": {},
   "outputs": [],
   "source": [
    "train_mse = []\n",
    "for i in range(len(train_df)):\n",
    "    num = np.sum((train_df.mean()-train_df.iloc[i])**2)\n",
    "    train_mse.append(num)"
   ]
  },
  {
   "cell_type": "code",
   "execution_count": null,
   "metadata": {},
   "outputs": [],
   "source": []
  },
  {
   "cell_type": "code",
   "execution_count": 62,
   "metadata": {},
   "outputs": [
    {
     "data": {
      "text/plain": [
       "(1.002300012028511, 2.4857735318333067, 5.744649074135609)"
      ]
     },
     "execution_count": 62,
     "metadata": {},
     "output_type": "execute_result"
    }
   ],
   "source": [
    "np.min(train_mse), np.mean(train_mse), np.max(train_mse)"
   ]
  },
  {
   "cell_type": "code",
   "execution_count": 81,
   "metadata": {},
   "outputs": [
    {
     "data": {
      "text/plain": [
       "[2.5672482261179512,\n",
       " 1.4885665936767722,\n",
       " 2.5685065479776616,\n",
       " 2.1318575561661337,\n",
       " 1.9558573609548,\n",
       " 2.192313294518267,\n",
       " 3.2311272313426085,\n",
       " 2.5554302329935528,\n",
       " 1.7460863117056045,\n",
       " 1.3150779876296417,\n",
       " 2.4381736020287104,\n",
       " 1.6492552961812026,\n",
       " 2.5981915559538,\n",
       " 3.367335199082297,\n",
       " 1.450923479013376,\n",
       " 2.2011557342458685,\n",
       " 1.9083876750525937,\n",
       " 1.5665861558199674,\n",
       " 1.5718613540127837,\n",
       " 2.164435098421674,\n",
       " 2.136981455888738,\n",
       " 2.2332554452435995,\n",
       " 2.4078921724438276,\n",
       " 2.3226547285198285,\n",
       " 2.718797703311068,\n",
       " 2.015772508724568,\n",
       " 2.463057249337777,\n",
       " 4.864094754139549,\n",
       " 2.440541360509176,\n",
       " 2.000463338112263,\n",
       " 2.0918040966423797,\n",
       " 2.5753544350993383,\n",
       " 2.35933861391406,\n",
       " 1.8353092485105327,\n",
       " 2.887885522911284,\n",
       " 2.1670317824466894,\n",
       " 1.7735703521915407,\n",
       " 2.1381160785006976,\n",
       " 2.1155738652653735,\n",
       " 3.9590502166675408,\n",
       " 2.722146910773648,\n",
       " 2.1555957870793847,\n",
       " 2.3494436230187428,\n",
       " 2.651074376713267,\n",
       " 1.975607283534619,\n",
       " 2.3128615059939848,\n",
       " 5.744649074135609,\n",
       " 1.9626202075365908,\n",
       " 2.559961935571605,\n",
       " 2.346433771319864,\n",
       " 1.1208015040051684,\n",
       " 1.5257391979021513,\n",
       " 2.912928743923798,\n",
       " 2.2336416684019262,\n",
       " 2.323312452739173,\n",
       " 4.7743798218040165,\n",
       " 3.3020164137681784,\n",
       " 2.277530927374456,\n",
       " 1.3223188877195624,\n",
       " 1.1930667542678652,\n",
       " 3.5552926554917077,\n",
       " 2.1058132609758826,\n",
       " 2.4889580929052286,\n",
       " 2.245846300591791,\n",
       " 1.7275487986963145,\n",
       " 2.290049724546523,\n",
       " 1.8806400609762246,\n",
       " 1.4949009390813657,\n",
       " 1.846002917619136,\n",
       " 1.939882337845043,\n",
       " 2.5929298105960648,\n",
       " 2.5289998030448113,\n",
       " 2.263389811712625,\n",
       " 3.3153709475018056,\n",
       " 2.8978592100227614,\n",
       " 2.29642490194337,\n",
       " 4.105095896360601,\n",
       " 2.059913241902194,\n",
       " 2.220223538021404,\n",
       " 2.8683925976112645,\n",
       " 1.1136284331889983,\n",
       " 4.585952416072277,\n",
       " 2.4016884199225768,\n",
       " 2.103208732322208,\n",
       " 1.6279673146920834,\n",
       " 1.8950532750851043,\n",
       " 1.7347157725551847,\n",
       " 3.0866475616967417,\n",
       " 2.727235761009579,\n",
       " 2.9947932907044796,\n",
       " 3.613302292943468,\n",
       " 1.4012500244933128,\n",
       " 1.6198394632019113,\n",
       " 1.7642448170048486,\n",
       " 2.0035815146722378,\n",
       " 1.8635096736611851,\n",
       " 1.9965294208237094,\n",
       " 2.670903880218417,\n",
       " 2.654194179254211,\n",
       " 1.7979189901282813,\n",
       " 2.9046902926562552,\n",
       " 1.144265346086249,\n",
       " 1.758316395700428,\n",
       " 2.3243440601570318,\n",
       " 1.7252369399615861,\n",
       " 1.002300012028511,\n",
       " 2.2134344413589333,\n",
       " 2.117895309244166,\n",
       " 2.2084915531166756,\n",
       " 3.1285134661632465,\n",
       " 2.47150452594256,\n",
       " 2.9728503609232755,\n",
       " 1.8543269435080014,\n",
       " 2.3624660811954863,\n",
       " 1.8790672081892987,\n",
       " 3.88332217573889,\n",
       " 2.586771896756889,\n",
       " 1.8592411992725877,\n",
       " 2.584522735015469,\n",
       " 3.120472134480534,\n",
       " 1.461657788893371,\n",
       " 1.9878343166697605,\n",
       " 2.6705866533771214,\n",
       " 1.9505103013487022,\n",
       " 2.0398861008900147,\n",
       " 2.560897037187194,\n",
       " 1.1300936718336736,\n",
       " 4.150216230912283,\n",
       " 2.345933808606178,\n",
       " 2.8280024806276725,\n",
       " 2.186891654619587,\n",
       " 3.6340924958327987,\n",
       " 1.4055797682811204,\n",
       " 2.9624347142590826,\n",
       " 3.004207164973943,\n",
       " 3.1157727495541656,\n",
       " 2.8217251913876122,\n",
       " 3.1670658497996693,\n",
       " 3.1916436830994996,\n",
       " 3.042116741166076,\n",
       " 3.020333456424165,\n",
       " 2.699259344719229,\n",
       " 2.368617738829101,\n",
       " 2.1795509653243745,\n",
       " 2.3244078541031237,\n",
       " 3.2374193015078756,\n",
       " 3.3255610449538997,\n",
       " 2.0786662053175,\n",
       " 4.1832678220054405,\n",
       " 2.281920403981031,\n",
       " 3.1306961791313563,\n",
       " 2.1534489205601712,\n",
       " 3.836019844965487,\n",
       " 2.4958398257911982,\n",
       " 1.8137324290904626,\n",
       " 2.528942222318454,\n",
       " 4.868949547925009,\n",
       " 2.6348648622456805,\n",
       " 4.823163046547938,\n",
       " 3.290088695479263,\n",
       " 2.122662477770205,\n",
       " 2.312568815646437,\n",
       " 3.1740678832261104,\n",
       " 4.296742460466415,\n",
       " 2.543929206680853,\n",
       " 3.1414621766454367,\n",
       " 2.960037548369221,\n",
       " 1.3630626091643643,\n",
       " 2.298484440642945,\n",
       " 1.310641458307448,\n",
       " 2.810089043498226,\n",
       " 3.0167413692257252,\n",
       " 2.016303342813182,\n",
       " 1.7820867008168653,\n",
       " 2.515800080309135,\n",
       " 2.9065532526550673,\n",
       " 1.931765427570654,\n",
       " 3.1697543589651866,\n",
       " 2.4022919943908896,\n",
       " 1.7724937443547848,\n",
       " 2.696605581915411,\n",
       " 1.68338465934653,\n",
       " 2.7754629015137047,\n",
       " 2.8295725118904347,\n",
       " 2.143786336852955,\n",
       " 1.9500785771177571,\n",
       " 2.4225114161026324,\n",
       " 1.5972246513860413,\n",
       " 5.086650722529361,\n",
       " 2.2662298427029817,\n",
       " 2.522839873524581,\n",
       " 3.200205995724757,\n",
       " 2.280756086193045,\n",
       " 1.733485734787843,\n",
       " 3.4617424120241713,\n",
       " 3.602405183981886,\n",
       " 2.2554502602244395,\n",
       " 3.9286490228266278,\n",
       " 2.3348935125302663,\n",
       " 3.3970212596559004,\n",
       " 1.6220698605525086,\n",
       " 3.978734223707056,\n",
       " 2.325169221360391,\n",
       " 2.4234441816573984,\n",
       " 1.4272529541441425,\n",
       " 2.712078029070371,\n",
       " 2.5291504390413255,\n",
       " 1.7781578226406718,\n",
       " 3.359432944644807]"
      ]
     },
     "execution_count": 81,
     "metadata": {},
     "output_type": "execute_result"
    }
   ],
   "source": [
    "train_mse"
   ]
  },
  {
   "cell_type": "code",
   "execution_count": null,
   "metadata": {},
   "outputs": [],
   "source": []
  },
  {
   "cell_type": "code",
   "execution_count": 69,
   "metadata": {},
   "outputs": [],
   "source": [
    "# train_df['data'] = 'train'\n",
    "test_bs_data['data'] = 'broken_small'\n",
    "test_bl_data['data'] = 'broken_large'\n",
    "test_con_data['data'] = 'contamination'\n",
    "test_g_data['data'] = 'good'"
   ]
  },
  {
   "cell_type": "code",
   "execution_count": 72,
   "metadata": {},
   "outputs": [],
   "source": [
    "full_data = pd.concat([train_df, test_bs_data, test_bl_data, test_con_data, test_g_data])\n",
    "full_data.to_csv('100x100fxdata.csv', index=False)"
   ]
  },
  {
   "cell_type": "code",
   "execution_count": null,
   "metadata": {},
   "outputs": [],
   "source": []
  },
  {
   "cell_type": "code",
   "execution_count": 73,
   "metadata": {},
   "outputs": [
    {
     "data": {
      "text/plain": [
       "(2.781633092135445, 4.30399617151289, 6.0191427467742)"
      ]
     },
     "execution_count": 73,
     "metadata": {},
     "output_type": "execute_result"
    }
   ],
   "source": [
    "test_bs_mse = []\n",
    "for i in range(len(test_bs_data)):\n",
    "    num = np.sum((train_df.mean()-test_bs_data.iloc[i])**2)\n",
    "    test_bs_mse.append(num)\n",
    "np.min(test_bs_mse), np.mean(test_bs_mse), np.max(test_bs_mse)"
   ]
  },
  {
   "cell_type": "code",
   "execution_count": 80,
   "metadata": {},
   "outputs": [
    {
     "data": {
      "text/plain": [
       "[5.198811524040549,\n",
       " 3.089243085109705,\n",
       " 5.310222143842392,\n",
       " 4.524341423150566,\n",
       " 3.3531656524412816,\n",
       " 4.158705613342506,\n",
       " 3.998422188429854,\n",
       " 2.781633092135445,\n",
       " 4.498782104154644,\n",
       " 3.671950048188515,\n",
       " 5.198682565540642,\n",
       " 4.257647224495963,\n",
       " 6.0191427467742,\n",
       " 4.065653946916187,\n",
       " 3.295099249124982,\n",
       " 5.320860567455062,\n",
       " 4.965219112975054,\n",
       " 5.378992002466773,\n",
       " 3.265034264199912,\n",
       " 3.4327955297636845,\n",
       " 5.2082869426413545,\n",
       " 3.6952247460943197]"
      ]
     },
     "execution_count": 80,
     "metadata": {},
     "output_type": "execute_result"
    }
   ],
   "source": [
    "test_bs_mse"
   ]
  },
  {
   "cell_type": "code",
   "execution_count": null,
   "metadata": {},
   "outputs": [],
   "source": []
  },
  {
   "cell_type": "code",
   "execution_count": 74,
   "metadata": {},
   "outputs": [
    {
     "data": {
      "text/plain": [
       "(2.3958971847371497, 16.328617562389404, 46.6766026153459)"
      ]
     },
     "execution_count": 74,
     "metadata": {},
     "output_type": "execute_result"
    }
   ],
   "source": [
    "test_bl_mse = []\n",
    "for i in range(len(test_bl_data)):\n",
    "    num = np.sum((train_df.mean()-test_bl_data.iloc[i])**2)\n",
    "    test_bl_mse.append(num)\n",
    "np.min(test_bl_mse), np.mean(test_bl_mse), np.max(test_bl_mse)"
   ]
  },
  {
   "cell_type": "code",
   "execution_count": 79,
   "metadata": {},
   "outputs": [
    {
     "data": {
      "text/plain": [
       "[16.86579344075846,\n",
       " 23.233734336665666,\n",
       " 18.120357754369106,\n",
       " 46.6766026153459,\n",
       " 4.39253900600779,\n",
       " 5.5250059228495845,\n",
       " 14.951197750352147,\n",
       " 36.2320431907434,\n",
       " 19.550482256600425,\n",
       " 11.681204703803681,\n",
       " 20.734274302152404,\n",
       " 2.3958971847371497,\n",
       " 7.9199839366447575,\n",
       " 14.095572697193719,\n",
       " 6.966627140615768,\n",
       " 11.69841565514853,\n",
       " 11.856925704814524,\n",
       " 14.979640364025721,\n",
       " 24.301070183242988,\n",
       " 14.394983101716388]"
      ]
     },
     "execution_count": 79,
     "metadata": {},
     "output_type": "execute_result"
    }
   ],
   "source": [
    "test_bl_mse"
   ]
  },
  {
   "cell_type": "code",
   "execution_count": null,
   "metadata": {},
   "outputs": [],
   "source": []
  },
  {
   "cell_type": "code",
   "execution_count": 75,
   "metadata": {},
   "outputs": [
    {
     "data": {
      "text/plain": [
       "(1.783564545744268, 5.516882229078195, 15.355574560286271)"
      ]
     },
     "execution_count": 75,
     "metadata": {},
     "output_type": "execute_result"
    }
   ],
   "source": [
    "test_con_mse = []\n",
    "for i in range(len(test_con_data)):\n",
    "    num = np.sum((train_df.mean()-test_con_data.iloc[i])**2)\n",
    "    test_con_mse.append(num)\n",
    "np.min(test_con_mse), np.mean(test_con_mse), np.max(test_con_mse)"
   ]
  },
  {
   "cell_type": "code",
   "execution_count": 78,
   "metadata": {},
   "outputs": [
    {
     "data": {
      "text/plain": [
       "[8.985517578415141,\n",
       " 6.030769929829802,\n",
       " 4.890872964370405,\n",
       " 3.1164982826258836,\n",
       " 6.529237497015559,\n",
       " 7.833083011769635,\n",
       " 4.519836426050578,\n",
       " 9.240469029180613,\n",
       " 7.777743767081272,\n",
       " 6.600313038872734,\n",
       " 15.355574560286271,\n",
       " 2.5016922830032513,\n",
       " 2.8585901710202113,\n",
       " 3.2510602853920663,\n",
       " 2.5596282195375166,\n",
       " 6.248179718324462,\n",
       " 2.985284728816897,\n",
       " 5.988424444474304,\n",
       " 4.324899196044618,\n",
       " 1.783564545744268,\n",
       " 2.473287132786625]"
      ]
     },
     "execution_count": 78,
     "metadata": {},
     "output_type": "execute_result"
    }
   ],
   "source": [
    "test_con_mse"
   ]
  },
  {
   "cell_type": "code",
   "execution_count": null,
   "metadata": {},
   "outputs": [],
   "source": []
  },
  {
   "cell_type": "code",
   "execution_count": 76,
   "metadata": {},
   "outputs": [
    {
     "data": {
      "text/plain": [
       "(1.331286452783834, 2.77835023438555, 3.9734758070236103)"
      ]
     },
     "execution_count": 76,
     "metadata": {},
     "output_type": "execute_result"
    }
   ],
   "source": [
    "test_good_mse = []\n",
    "for i in range(len(test_g_data)):\n",
    "    num = np.sum((train_df.mean()-test_g_data.iloc[i])**2)\n",
    "    test_good_mse.append(num)\n",
    "np.min(test_good_mse), np.mean(test_good_mse), np.max(test_good_mse)"
   ]
  },
  {
   "cell_type": "code",
   "execution_count": 77,
   "metadata": {},
   "outputs": [
    {
     "data": {
      "text/plain": [
       "[1.988693807708115,\n",
       " 1.7257951493141208,\n",
       " 3.9734758070236103,\n",
       " 2.4749551696398995,\n",
       " 1.8445808989481949,\n",
       " 1.634945924651387,\n",
       " 3.217408378119193,\n",
       " 3.419322117903049,\n",
       " 2.193957410639437,\n",
       " 3.2511582829738535,\n",
       " 3.697655063521923,\n",
       " 2.5433172375449296,\n",
       " 3.2437686526949734,\n",
       " 3.8683249015818086,\n",
       " 2.365970702010338,\n",
       " 3.6557245650862833,\n",
       " 1.9688663420921733,\n",
       " 1.331286452783834,\n",
       " 3.5044764064047302,\n",
       " 3.6633214170691537]"
      ]
     },
     "execution_count": 77,
     "metadata": {},
     "output_type": "execute_result"
    }
   ],
   "source": [
    "test_good_mse"
   ]
  },
  {
   "cell_type": "code",
   "execution_count": null,
   "metadata": {},
   "outputs": [],
   "source": []
  },
  {
   "cell_type": "code",
   "execution_count": null,
   "metadata": {},
   "outputs": [],
   "source": []
  },
  {
   "cell_type": "code",
   "execution_count": null,
   "metadata": {},
   "outputs": [],
   "source": []
  },
  {
   "cell_type": "code",
   "execution_count": null,
   "metadata": {},
   "outputs": [],
   "source": []
  },
  {
   "cell_type": "code",
   "execution_count": null,
   "metadata": {},
   "outputs": [],
   "source": []
  },
  {
   "cell_type": "code",
   "execution_count": null,
   "metadata": {},
   "outputs": [],
   "source": []
  },
  {
   "cell_type": "code",
   "execution_count": null,
   "metadata": {},
   "outputs": [],
   "source": []
  },
  {
   "cell_type": "code",
   "execution_count": null,
   "metadata": {
    "scrolled": true
   },
   "outputs": [],
   "source": []
  },
  {
   "cell_type": "code",
   "execution_count": null,
   "metadata": {},
   "outputs": [],
   "source": []
  }
 ],
 "metadata": {
  "kernelspec": {
   "display_name": "Python 3",
   "language": "python",
   "name": "python3"
  },
  "language_info": {
   "codemirror_mode": {
    "name": "ipython",
    "version": 3
   },
   "file_extension": ".py",
   "mimetype": "text/x-python",
   "name": "python",
   "nbconvert_exporter": "python",
   "pygments_lexer": "ipython3",
   "version": "3.8.0"
  }
 },
 "nbformat": 4,
 "nbformat_minor": 2
}
